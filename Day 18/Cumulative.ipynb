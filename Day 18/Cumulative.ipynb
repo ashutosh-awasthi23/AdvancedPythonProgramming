{
 "cells": [
  {
   "cell_type": "code",
   "execution_count": 84,
   "metadata": {},
   "outputs": [],
   "source": [
    "import pandas as pd\n",
    "import matplotlib.pyplot as plt\n",
    "# df=pd.read_csv(\"apple_stock_data.csv\").head()\n",
    "# df"
   ]
  },
  {
   "cell_type": "code",
   "execution_count": 89,
   "metadata": {},
   "outputs": [],
   "source": [
    "class StockData:\n",
    "    df=pd.DataFrame()\n",
    "    \n",
    "    def load_data(self):\n",
    "#         self.df=pd.read_csv(\"apple_stock_data.csv\",chunksize=100)\n",
    "        self.df=pd.read_csv(\"applestock_data.csv\").head(100)\n",
    "    def sort_data(self):\n",
    "        self.df.sort_values(by=[\"Date\"],ascending=[False])\n",
    "    def basic_analysis(self):\n",
    "        plt.figure(figsize=(8,6))\n",
    "        plt.xlabel(\"Date\")\n",
    "        plt.ylabel(\"Closing Price\")\n",
    "        plt.title(\"Distribution of closing price over dates\")\n",
    "        plt.plot(self.df[\"Date\"],self.df[\"Close\"],'b^-')\n",
    "        plt.xticks([i for i in range(1,100,20)])\n",
    "#         plt.plot(self.df[\"Date\"], self.df[\"Close\"], label = 'Dataset 1', color = 'blue', marker='o', linestyle = '--')\n",
    "        plt.show()"
   ]
  },
  {
   "cell_type": "code",
   "execution_count": 90,
   "metadata": {},
   "outputs": [
    {
     "name": "stdout",
     "output_type": "stream",
     "text": [
      "ashutosh\n",
      "I learnt exception handling today\n"
     ]
    }
   ],
   "source": [
    "obj=StockData()\n",
    "try:\n",
    "    obj.load_data()\n",
    "    obj.sort_data()\n",
    "    obj.basic_analysis()\n",
    "except FileNotFoundError:\n",
    "    print(\"ashutosh\")\n",
    "finally:\n",
    "    print(\"I learnt exception handling today\")"
   ]
  },
  {
   "cell_type": "code",
   "execution_count": null,
   "metadata": {},
   "outputs": [],
   "source": []
  },
  {
   "cell_type": "code",
   "execution_count": null,
   "metadata": {},
   "outputs": [],
   "source": []
  }
 ],
 "metadata": {
  "kernelspec": {
   "display_name": "Python 3",
   "language": "python",
   "name": "python3"
  },
  "language_info": {
   "codemirror_mode": {
    "name": "ipython",
    "version": 3
   },
   "file_extension": ".py",
   "mimetype": "text/x-python",
   "name": "python",
   "nbconvert_exporter": "python",
   "pygments_lexer": "ipython3",
   "version": "3.8.5"
  }
 },
 "nbformat": 4,
 "nbformat_minor": 4
}
