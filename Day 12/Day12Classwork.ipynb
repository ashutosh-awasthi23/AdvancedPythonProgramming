{
 "cells": [
  {
   "cell_type": "markdown",
   "metadata": {},
   "source": [
    "### Q:   What is Data?\n",
    "##### Ans: Raw,Unprocessed facts,figures or symbols\n",
    "\n",
    "###### Types\n",
    "* Structured\n",
    "* Unstructed\n",
    "* Semi Structured\n",
    "* Quantitative data\n",
    "* Qualitative data\n",
    "\n",
    "\n",
    "###### Method of data collection\n",
    "* Survey and questionnarires\n",
    "* Experiments\n",
    "* Observations\n",
    "* Sensors and Devices"
   ]
  },
  {
   "cell_type": "markdown",
   "metadata": {},
   "source": [
    "###### Charateristics of database management\n",
    "* organised\n",
    "* secure\n",
    "* accessible\n",
    "##### Benefits\n",
    "* efficient data storage and retrieval\n",
    "* data integrity and security\n",
    "* handling large volumes of data"
   ]
  },
  {
   "cell_type": "markdown",
   "metadata": {},
   "source": [
    "###### Database Types\n",
    "* relational\n",
    "    *mysql\n",
    "    *sqllite\n",
    "* no sql"
   ]
  },
  {
   "cell_type": "markdown",
   "metadata": {},
   "source": [
    " ## SQLite Database\n",
    " \n",
    " * Inbuilt database in python_standard library-SQLite3\n",
    " * Most widely deployed databases in the wprld\n",
    " * C language library\n",
    " * Provides a sql database engine\n",
    " * Cross platform\n",
    " * Databases are stored as files on disk\n",
    " * ACID compliant\n",
    " * lightweight"
   ]
  },
  {
   "cell_type": "markdown",
   "metadata": {},
   "source": [
    "### Sqlite objects\n",
    "\n",
    "* connection object\n",
    "    provides means to interact with database\n",
    "* cursor object"
   ]
  },
  {
   "cell_type": "code",
   "execution_count": 8,
   "metadata": {
    "scrolled": false
   },
   "outputs": [
    {
     "name": "stdout",
     "output_type": "stream",
     "text": [
      "All records: \n",
      "\n",
      "Order By clause:\n",
      "\n",
      "(5, 'Harshit', 20)\n",
      "(2, 'Ankit', 22)\n",
      "(4, 'Paras', 22)\n",
      "(1, 'Aaryan Pal', 23)\n",
      "(3, 'Abhishek', 24)\n",
      "\n",
      "Users granted by age with count:\n",
      "(20, 1)\n",
      "(22, 2)\n",
      "(23, 1)\n",
      "(24, 1)\n",
      "[(4, 'Paras', 30)]\n"
     ]
    }
   ],
   "source": [
    "import sqlite3\n",
    "\n",
    "# 1. establish a connection to the database\n",
    "conn=sqlite3.connect('DAIBATCH2024.db')\n",
    "\n",
    "# 2. Create a cursor object\n",
    "cursor = conn.cursor()\n",
    "cursor.execute(\"DROP TABLE users\")\n",
    "# 3. Create table if doesn't exists\n",
    "cursor.execute(\n",
    "'''CREATE TABLE IF NOT EXISTS users (id INTEGER PRIMARY KEY, name TEXT, age INTEGER)'''\n",
    ")\n",
    "\n",
    "# 4. Insert some data\n",
    "cursor.execute(\"INSERT INTO users (name, age) VALUES ('Aaryan Pal', 23)\")\n",
    "cursor.execute(\"INSERT INTO users (name, age) VALUES ('Ankit', 22)\")\n",
    "cursor.execute(\"INSERT INTO users (name, age) VALUES ('Abhishek', 24)\")\n",
    "cursor.execute(\"INSERT INTO users (name, age) VALUES ('Paras', 22)\")\n",
    "cursor.execute(\"INSERT INTO users (name, age) VALUES ('Harshit', 20)\")\n",
    "\n",
    "# 5. Commit the transaction\n",
    "conn.commit()\n",
    "\n",
    "print(\"All records: \\n\")\n",
    "cursor.execute(\"SELECT * FROM users\")\n",
    "print(\"Order By clause:\\n\")\n",
    "cursor.execute(\"SELECT * FROM users ORDER BY age\")\n",
    "\n",
    "while True:\n",
    "    row = cursor.fetchone()\n",
    "    if row is None:\n",
    "        break\n",
    "        \n",
    "    print(row)\n",
    "    \n",
    "# 7. Query with GROUP BY\n",
    "print(\"\\nUsers granted by age with count:\")\n",
    "cursor.execute(\"SELECT age, COUNT(*) as count FROM users GROUP BY age\")\n",
    "results = cursor.fetchall()\n",
    "for row in results:\n",
    "    print(row)\n",
    "\n",
    "\n",
    "cursor.execute(\"UPDATE users SET age = 30 WHERE name = 'Paras'\")\n",
    "results = cursor.fetchall()\n",
    "for row in results:\n",
    "    print(row)\n",
    "    \n",
    "cursor.execute(\"SELECT * FROM users where name like 'Paras'\")\n",
    "results = cursor.fetchall()\n",
    "print(results)\n",
    "\n",
    "# 8. Close the cursor and connection\n",
    "cursor.close()\n",
    "conn.close()\n",
    "\n",
    "    \n",
    "    \n",
    "\n"
   ]
  },
  {
   "cell_type": "markdown",
   "metadata": {},
   "source": [
    "# **Assignment 1**"
   ]
  },
  {
   "cell_type": "code",
   "execution_count": 59,
   "metadata": {},
   "outputs": [],
   "source": [
    "import sqlite3"
   ]
  },
  {
   "cell_type": "code",
   "execution_count": 60,
   "metadata": {},
   "outputs": [],
   "source": [
    "conn = sqlite3.connect('school.db')"
   ]
  },
  {
   "cell_type": "markdown",
   "metadata": {},
   "source": [
    "cursor = conn.cursor()\n",
    "cursor.execute(\"DROP TABLE Students\")\n",
    "cursor.execute(\"DROP TABLE Courses\")"
   ]
  },
  {
   "cell_type": "code",
   "execution_count": null,
   "metadata": {},
   "outputs": [],
   "source": [
    "cursor.execute(\n",
    "''' CREATE TABLE IF NOT EXISTS Students (ID INTEGER PRIMARY KEY, name TEXT NOT NULL, age INTEGER NOT NULL, grade TEXT) '''\n",
    ")"
   ]
  },
  {
   "cell_type": "code",
   "execution_count": null,
   "metadata": {},
   "outputs": [],
   "source": [
    "cursor.execute(\n",
    "''' CREATE TABLE IF NOT EXISTS Courses (COURSE_ID INTEGER PRIMARY KEY, course_name TEXT NOT NULL, instructor TEXT) '''\n",
    ")"
   ]
  },
  {
   "cell_type": "code",
   "execution_count": 57,
   "metadata": {},
   "outputs": [
    {
     "ename": "OperationalError",
     "evalue": "database is locked",
     "output_type": "error",
     "traceback": [
      "\u001b[1;31m---------------------------------------------------------------------------\u001b[0m",
      "\u001b[1;31mOperationalError\u001b[0m                          Traceback (most recent call last)",
      "\u001b[1;32m<ipython-input-57-f7a8f1ad0321>\u001b[0m in \u001b[0;36m<module>\u001b[1;34m\u001b[0m\n\u001b[1;32m----> 1\u001b[1;33m \u001b[0mcursor\u001b[0m\u001b[1;33m.\u001b[0m\u001b[0mexecute\u001b[0m\u001b[1;33m(\u001b[0m\u001b[1;34m\"INSERT INTO Students(name,age,grade) VAlUES ('ashutosh',23,'A')\"\u001b[0m\u001b[1;33m)\u001b[0m\u001b[1;33m\u001b[0m\u001b[1;33m\u001b[0m\u001b[0m\n\u001b[0m",
      "\u001b[1;31mOperationalError\u001b[0m: database is locked"
     ]
    }
   ],
   "source": [
    "cursor.execute(\"INSERT INTO Students(name,age,grade) VAlUES ('ashutosh',23,'A')\")"
   ]
  },
  {
   "cell_type": "code",
   "execution_count": null,
   "metadata": {},
   "outputs": [],
   "source": [
    "cursor.execute(\"INSERT INTO Students(name,age,grade) VAlUES ('ashutosh1',23,'A')\")\n",
    "cursor.execute(\"INSERT INTO Students(name,age,grade) VAlUES ('ashutosh2',23,'b')\")\n",
    "cursor.execute(\"INSERT INTO Students(name,age,grade) VAlUES ('ashutosh3',23,'c')\")\n",
    "cursor.execute(\"INSERT INTO Students(name,age,grade) VAlUES ('ashutosh4',23,'d')\")"
   ]
  },
  {
   "cell_type": "code",
   "execution_count": null,
   "metadata": {},
   "outputs": [],
   "source": [
    "conn.commit()\n"
   ]
  },
  {
   "cell_type": "code",
   "execution_count": null,
   "metadata": {},
   "outputs": [],
   "source": [
    "cursor.execute(\"INSERT INTO Courses (course_name,instructor) VAlUES ('Ai','a')\")"
   ]
  },
  {
   "cell_type": "code",
   "execution_count": null,
   "metadata": {},
   "outputs": [],
   "source": [
    "cursor.execute(\"INSERT INTO Courses (course_name,instructor) VAlUES ('dac','a')\")\n",
    "cursor.execute(\"INSERT INTO Courses (course_name,instructor) VAlUES ('dbda','b')\")\n"
   ]
  },
  {
   "cell_type": "code",
   "execution_count": 53,
   "metadata": {},
   "outputs": [
    {
     "name": "stdout",
     "output_type": "stream",
     "text": [
      "[(1, 'ashutosh', 23, 'A'), (2, 'ashutosh', 23, 'A'), (3, 'ashutosh1', 23, 'A'), (7, 'ashutosh1', 23, 'A')]\n"
     ]
    }
   ],
   "source": [
    "cursor.execute(\"SELECT *  from Students where grade='A'\")\n",
    "result=cursor.fetchall()\n",
    "print(result)"
   ]
  },
  {
   "cell_type": "code",
   "execution_count": 58,
   "metadata": {},
   "outputs": [],
   "source": [
    "# cursor.close()\n",
    "# conn.close()"
   ]
  },
  {
   "cell_type": "markdown",
   "metadata": {},
   "source": [
    "*Exception handling*\n",
    "* Try\n",
    "    All sql operation\n",
    "* Except\n",
    "    Handling of exception\n",
    "* Finally block\n",
    "    Closing cursors and connection"
   ]
  },
  {
   "cell_type": "code",
   "execution_count": 62,
   "metadata": {},
   "outputs": [
    {
     "ename": "SyntaxError",
     "evalue": "invalid syntax (<ipython-input-62-85cd8f0ea731>, line 3)",
     "output_type": "error",
     "traceback": [
      "\u001b[1;36m  File \u001b[1;32m\"<ipython-input-62-85cd8f0ea731>\"\u001b[1;36m, line \u001b[1;32m3\u001b[0m\n\u001b[1;33m    * Primary key,Uniqueness,NotNull,Index\u001b[0m\n\u001b[1;37m              ^\u001b[0m\n\u001b[1;31mSyntaxError\u001b[0m\u001b[1;31m:\u001b[0m invalid syntax\n"
     ]
    }
   ],
   "source": [
    "### Constraint\n",
    "\n",
    "* Primary key,Uniqueness,NotNull,Index\n",
    "* Foreign Key, Referential Integrity,Can be null\n",
    "\n",
    "* Index: Primary key Index\n",
    "* Unique Index\n",
    "*Regular     "
   ]
  },
  {
   "cell_type": "code",
   "execution_count": null,
   "metadata": {},
   "outputs": [],
   "source": [
    "SQL joins\n",
    "* Left Joins\n",
    "* Full Outer Joins\n",
    "*"
   ]
  }
 ],
 "metadata": {
  "kernelspec": {
   "display_name": "Python 3",
   "language": "python",
   "name": "python3"
  },
  "language_info": {
   "codemirror_mode": {
    "name": "ipython",
    "version": 3
   },
   "file_extension": ".py",
   "mimetype": "text/x-python",
   "name": "python",
   "nbconvert_exporter": "python",
   "pygments_lexer": "ipython3",
   "version": "3.8.5"
  }
 },
 "nbformat": 4,
 "nbformat_minor": 4
}
