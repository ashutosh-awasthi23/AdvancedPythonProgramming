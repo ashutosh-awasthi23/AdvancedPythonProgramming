{
 "cells": [
  {
   "cell_type": "code",
   "execution_count": 32,
   "metadata": {},
   "outputs": [],
   "source": [
    "import sqlite3\n",
    "conn = sqlite3.connect('School1.db')\n",
    "conn.execute(\"PRAGMA foreign_keys = 1\")\n",
    "cursor = conn.cursor()"
   ]
  },
  {
   "cell_type": "code",
   "execution_count": 33,
   "metadata": {},
   "outputs": [
    {
     "data": {
      "text/plain": [
       "<sqlite3.Cursor at 0x1a44f9b7dc0>"
      ]
     },
     "execution_count": 33,
     "metadata": {},
     "output_type": "execute_result"
    }
   ],
   "source": [
    "cursor.execute(\n",
    "'''CREATE TABLE IF NOT EXISTS SUBJECTS (id INTEGER PRIMARY KEY, name TEXT NOT NULL) '''\n",
    ")"
   ]
  },
  {
   "cell_type": "code",
   "execution_count": 35,
   "metadata": {},
   "outputs": [
    {
     "data": {
      "text/plain": [
       "<sqlite3.Cursor at 0x1a44f9b7dc0>"
      ]
     },
     "execution_count": 35,
     "metadata": {},
     "output_type": "execute_result"
    }
   ],
   "source": [
    "cursor.execute(\n",
    "'''CREATE TABLE IF NOT EXISTS STUDENTS (student_id INTEGER PRIMARY KEY, name TEXT NOT NULL,subject_id INTEGER,marks INTEGER,FOREIGN KEY (subject_id) REFERENCES SUBJECTS (id)) '''\n",
    ")"
   ]
  },
  {
   "cell_type": "code",
   "execution_count": 39,
   "metadata": {},
   "outputs": [
    {
     "data": {
      "text/plain": [
       "<sqlite3.Cursor at 0x1a44f9b7dc0>"
      ]
     },
     "execution_count": 39,
     "metadata": {},
     "output_type": "execute_result"
    }
   ],
   "source": [
    "cursor.execute(\"INSERT INTO STUDENTS (name, subject_id,marks) VALUES ('AP', 2,20)\")\n",
    "cursor.execute(\"INSERT INTO STUDENTS (name, subject_id,marks) VALUES ('BP', 1,30)\")\n",
    "cursor.execute(\"INSERT INTO STUDENTS (name, subject_id,marks) VALUES ('CP', 1,40)\")\n",
    "cursor.execute(\"INSERT INTO STUDENTS (name, subject_id,marks) VALUES ('DP', 3,50)\")\n",
    "cursor.execute(\"INSERT INTO STUDENTS (name, subject_id,marks) VALUES ('EP', 2,60)\")"
   ]
  },
  {
   "cell_type": "code",
   "execution_count": 40,
   "metadata": {},
   "outputs": [
    {
     "data": {
      "text/plain": [
       "<sqlite3.Cursor at 0x1a44f9b7dc0>"
      ]
     },
     "execution_count": 40,
     "metadata": {},
     "output_type": "execute_result"
    }
   ],
   "source": [
    "cursor.execute(\"INSERT INTO SUBJECTS (name) VALUES ('SSt')\")\n",
    "cursor.execute(\"INSERT INTO SUBJECTS (name) VALUES ('Maths')\")\n",
    "cursor.execute(\"INSERT INTO SUBJECTS (name) VALUES ('Eng')\")\n",
    "cursor.execute(\"INSERT INTO SUBJECTS (name) VALUES ('Hindi')\")\n",
    "cursor.execute(\"INSERT INTO SUBJECTS (name) VALUES ('Science')\")"
   ]
  },
  {
   "cell_type": "code",
   "execution_count": 50,
   "metadata": {},
   "outputs": [
    {
     "data": {
      "text/plain": [
       "<sqlite3.Cursor at 0x1a44f9b7dc0>"
      ]
     },
     "execution_count": 50,
     "metadata": {},
     "output_type": "execute_result"
    }
   ],
   "source": [
    "cursor.execute(\"\"\"\n",
    "SELECT STUDENTS.name, STUDENTS.marks, SUBJECTS.name \n",
    "FROM STUDENTS\n",
    "JOIN SUBJECTS ON STUDENTS.subject_id = SUBJECTS.id\n",
    "\"\"\")\n"
   ]
  },
  {
   "cell_type": "code",
   "execution_count": 51,
   "metadata": {},
   "outputs": [
    {
     "data": {
      "text/plain": [
       "[('AP', 20, 'Maths'),\n",
       " ('BP', 30, 'SSt'),\n",
       " ('CP', 40, 'SSt'),\n",
       " ('DP', 50, 'Eng'),\n",
       " ('EP', 60, 'Maths')]"
      ]
     },
     "execution_count": 51,
     "metadata": {},
     "output_type": "execute_result"
    }
   ],
   "source": [
    "result=cursor.fetchall()\n",
    "result"
   ]
  },
  {
   "cell_type": "code",
   "execution_count": 52,
   "metadata": {},
   "outputs": [],
   "source": [
    "conn.commit()"
   ]
  },
  {
   "cell_type": "code",
   "execution_count": 53,
   "metadata": {},
   "outputs": [],
   "source": [
    "cursor.close()"
   ]
  },
  {
   "cell_type": "code",
   "execution_count": 54,
   "metadata": {},
   "outputs": [],
   "source": [
    "conn.close()"
   ]
  },
  {
   "cell_type": "markdown",
   "metadata": {},
   "source": [
    "### Object Relational Mapping\n"
   ]
  },
  {
   "cell_type": "code",
   "execution_count": 61,
   "metadata": {},
   "outputs": [],
   "source": [
    "\n",
    "from sqlalchemy import create_engine,MetaData,Column,Integer,String,Float,Sequence\n",
    "from sqlalchemy.ext.declarative import declarative_base\n",
    "from sqlalchemy .orm import sessionmaker\n",
    "from sqlalchemy import inspect"
   ]
  },
  {
   "cell_type": "code",
   "execution_count": 70,
   "metadata": {},
   "outputs": [],
   "source": [
    "#set up the database and the base class\n",
    "engine=create_engine('sqlite:///company_orm1.db')\n",
    "Base=declarative_base()"
   ]
  },
  {
   "cell_type": "code",
   "execution_count": 69,
   "metadata": {},
   "outputs": [
    {
     "ename": "NameError",
     "evalue": "name 'Metadata' is not defined",
     "output_type": "error",
     "traceback": [
      "\u001b[1;31m---------------------------------------------------------------------------\u001b[0m",
      "\u001b[1;31mNameError\u001b[0m                                 Traceback (most recent call last)",
      "\u001b[1;32m<ipython-input-69-6d552019726d>\u001b[0m in \u001b[0;36m<module>\u001b[1;34m\u001b[0m\n\u001b[1;32m----> 1\u001b[1;33m \u001b[1;32mclass\u001b[0m \u001b[0mEmployee\u001b[0m\u001b[1;33m(\u001b[0m\u001b[0mBase\u001b[0m\u001b[1;33m)\u001b[0m\u001b[1;33m:\u001b[0m\u001b[1;33m\u001b[0m\u001b[1;33m\u001b[0m\u001b[0m\n\u001b[0m\u001b[0;32m      2\u001b[0m     \u001b[0m__tablename__\u001b[0m\u001b[1;33m=\u001b[0m\u001b[1;34m\"employees\"\u001b[0m\u001b[1;33m\u001b[0m\u001b[1;33m\u001b[0m\u001b[0m\n\u001b[0;32m      3\u001b[0m     \u001b[0mid\u001b[0m\u001b[1;33m=\u001b[0m\u001b[0mColumn\u001b[0m\u001b[1;33m(\u001b[0m\u001b[0mInteger\u001b[0m\u001b[1;33m,\u001b[0m\u001b[0mSequence\u001b[0m\u001b[1;33m(\u001b[0m\u001b[1;34m'employee_id_seq'\u001b[0m\u001b[1;33m)\u001b[0m\u001b[1;33m,\u001b[0m\u001b[0mprimary_key\u001b[0m\u001b[1;33m=\u001b[0m\u001b[1;32mTrue\u001b[0m\u001b[1;33m)\u001b[0m\u001b[1;33m\u001b[0m\u001b[1;33m\u001b[0m\u001b[0m\n\u001b[0;32m      4\u001b[0m     \u001b[0mname\u001b[0m\u001b[1;33m=\u001b[0m\u001b[0mColumn\u001b[0m\u001b[1;33m(\u001b[0m\u001b[0mString\u001b[0m\u001b[1;33m(\u001b[0m\u001b[1;36m50\u001b[0m\u001b[1;33m)\u001b[0m\u001b[1;33m)\u001b[0m\u001b[1;33m\u001b[0m\u001b[1;33m\u001b[0m\u001b[0m\n\u001b[0;32m      5\u001b[0m     \u001b[0mage\u001b[0m\u001b[1;33m=\u001b[0m\u001b[0mColumn\u001b[0m\u001b[1;33m(\u001b[0m\u001b[0mInteger\u001b[0m\u001b[1;33m)\u001b[0m\u001b[1;33m\u001b[0m\u001b[1;33m\u001b[0m\u001b[0m\n",
      "\u001b[1;32m<ipython-input-69-6d552019726d>\u001b[0m in \u001b[0;36mEmployee\u001b[1;34m()\u001b[0m\n\u001b[0;32m     11\u001b[0m     \u001b[1;31m#Create the table\u001b[0m\u001b[1;33m\u001b[0m\u001b[1;33m\u001b[0m\u001b[1;33m\u001b[0m\u001b[0m\n\u001b[0;32m     12\u001b[0m \u001b[1;33m\u001b[0m\u001b[0m\n\u001b[1;32m---> 13\u001b[1;33m     \u001b[0mmetadata\u001b[0m\u001b[1;33m=\u001b[0m\u001b[0mMetadata\u001b[0m\u001b[1;33m(\u001b[0m\u001b[1;33m)\u001b[0m\u001b[1;33m\u001b[0m\u001b[1;33m\u001b[0m\u001b[0m\n\u001b[0m\u001b[0;32m     14\u001b[0m     \u001b[0mmetadata\u001b[0m\u001b[1;33m.\u001b[0m\u001b[0mreflect\u001b[0m\u001b[1;33m(\u001b[0m\u001b[0mbind\u001b[0m\u001b[1;33m=\u001b[0m\u001b[0mengine\u001b[0m\u001b[1;33m)\u001b[0m\u001b[1;33m\u001b[0m\u001b[1;33m\u001b[0m\u001b[0m\n\u001b[0;32m     15\u001b[0m     \u001b[0mBase\u001b[0m\u001b[1;33m.\u001b[0m\u001b[0mmetadata\u001b[0m\u001b[1;33m.\u001b[0m\u001b[0mcreate_all\u001b[0m\u001b[1;33m(\u001b[0m\u001b[0mengine\u001b[0m\u001b[1;33m)\u001b[0m\u001b[1;33m\u001b[0m\u001b[1;33m\u001b[0m\u001b[0m\n",
      "\u001b[1;31mNameError\u001b[0m: name 'Metadata' is not defined"
     ]
    }
   ],
   "source": [
    "class Employee(Base):\n",
    "    __tablename__=\"employees\"\n",
    "    id=Column(Integer,Sequence('employee_id_seq'),primary_key=True)\n",
    "    name=Column(String(50))\n",
    "    age=Column(Integer)\n",
    "    department=Column(String(50))\n",
    "    salary=Column(Float)\n",
    "    \n",
    "    \n",
    "    \n",
    "    #Create the table\n",
    "    \n",
    "    etadata = MetaData()\n",
    "    metadata.reflect(bind=engine)\n",
    "    Base.metadata.create_all(engine)\n",
    "    employees=metadata.tables['employees']\n",
    "    \n",
    "    \n",
    "    inspector=inspect(engine)\n",
    "    columns=inspector.get_columns('employees')\n",
    "    \n",
    "    print(\"Table 'employees' Details:\")\n",
    "    for column in columns:\n",
    "        print(f\"Column:{column['name']}-Type:{column['type']}\")\n",
    "              \n",
    "              \n",
    "              \n",
    "              \n",
    "              \n",
    "    #create a session\n",
    "              \n",
    "    Session=sessionmaker(bind=engine)\n",
    "    session=Session()\n",
    "              \n",
    "              \n",
    "    # Add employee records\n",
    "    employees=[\n",
    "        Employee(name=\"a\",age=30,department=\"HR\",salary=70000),\n",
    "        Employee(name=\"b\",age=31,department=\"IT\",salary=70000),\n",
    "        Employee(name=\"c\",age=33,department=\"Financce\",salary=70000)\n",
    "        \n",
    "    ]          \n",
    "              \n",
    "              \n",
    "    session.add_all(employees)\n",
    "    session.commit\n",
    "    \n",
    "    #query the database\n",
    "    all_employees=session.query(Employee).all()\n",
    "    for emp in all_mployees:\n",
    "        print(f\"{emp.id}: {emp.name}-{emp.department} -${emp.salary}\")"
   ]
  },
  {
   "cell_type": "code",
   "execution_count": 78,
   "metadata": {},
   "outputs": [
    {
     "name": "stdout",
     "output_type": "stream",
     "text": [
      "Table 'STUDENTS' Details:\n",
      "Column: id - Type: INTEGER\n",
      "Column: name - Type: VARCHAR(50)\n",
      "Column: subject - Type: VARCHAR(50)\n",
      "Column: marks - Type: INTEGER\n",
      "1: a - b - 70\n",
      "2: b - c - 70\n",
      "3: c - c - 70\n",
      "4: a - b - 70\n",
      "5: b - c - 70\n",
      "6: c - c - 70\n"
     ]
    }
   ],
   "source": [
    "from sqlalchemy import create_engine, MetaData, Column, Integer, String, Sequence\n",
    "from sqlalchemy.ext.declarative import declarative_base\n",
    "from sqlalchemy.orm import sessionmaker\n",
    "from sqlalchemy import inspect\n",
    "\n",
    "# Create the engine and base class\n",
    "engine = create_engine('sqlite:///student23.db')\n",
    "Base = declarative_base()\n",
    "\n",
    "# Define the Students class\n",
    "class Students(Base):\n",
    "    __tablename__ = \"STUDENTS\"\n",
    "    id = Column(Integer, Sequence('student_id_seq'), primary_key=True)\n",
    "    name = Column(String(50))\n",
    "    subject = Column(String(50))\n",
    "    marks = Column(Integer)\n",
    "\n",
    "# Create tables\n",
    "Base.metadata.create_all(engine)\n",
    "\n",
    "# Initialize MetaData and inspect\n",
    "metadata = MetaData()\n",
    "metadata.reflect(bind=engine)\n",
    "inspector = inspect(engine)\n",
    "\n",
    "# Print table details\n",
    "print(\"Table 'STUDENTS' Details:\")\n",
    "columns = inspector.get_columns(\"STUDENTS\")\n",
    "for column in columns:\n",
    "    print(f\"Column: {column['name']} - Type: {column['type']}\")\n",
    "\n",
    "# Create a session\n",
    "Session = sessionmaker(bind=engine)\n",
    "session = Session()\n",
    "\n",
    "# Add student records\n",
    "students_list = [\n",
    "    Students(name=\"a\", subject=\"b\", marks=70),\n",
    "    Students(name=\"b\", subject=\"c\", marks=70),\n",
    "    Students(name=\"c\", subject=\"c\", marks=70)\n",
    "]\n",
    "\n",
    "session.add_all(students_list)\n",
    "session.commit()\n",
    "\n",
    "# Query the database\n",
    "all_students = session.query(Students).all()\n",
    "for stu in all_students:\n",
    "    print(f\"{stu.id}: {stu.name} - {stu.subject} - {stu.marks}\")\n",
    "\n",
    "\n"
   ]
  },
  {
   "cell_type": "code",
   "execution_count": 73,
   "metadata": {},
   "outputs": [],
   "source": []
  },
  {
   "cell_type": "code",
   "execution_count": 100,
   "metadata": {},
   "outputs": [
    {
     "ename": "IndentationError",
     "evalue": "expected an indented block (<ipython-input-100-78230ddbd399>, line 63)",
     "output_type": "error",
     "traceback": [
      "\u001b[1;36m  File \u001b[1;32m\"<ipython-input-100-78230ddbd399>\"\u001b[1;36m, line \u001b[1;32m63\u001b[0m\n\u001b[1;33m    create_table()\u001b[0m\n\u001b[1;37m    ^\u001b[0m\n\u001b[1;31mIndentationError\u001b[0m\u001b[1;31m:\u001b[0m expected an indented block\n"
     ]
    }
   ],
   "source": []
  },
  {
   "cell_type": "code",
   "execution_count": 91,
   "metadata": {},
   "outputs": [],
   "source": []
  },
  {
   "cell_type": "code",
   "execution_count": 92,
   "metadata": {},
   "outputs": [],
   "source": []
  },
  {
   "cell_type": "code",
   "execution_count": 93,
   "metadata": {},
   "outputs": [],
   "source": []
  },
  {
   "cell_type": "code",
   "execution_count": 94,
   "metadata": {},
   "outputs": [],
   "source": []
  },
  {
   "cell_type": "code",
   "execution_count": 95,
   "metadata": {},
   "outputs": [],
   "source": []
  },
  {
   "cell_type": "code",
   "execution_count": 96,
   "metadata": {},
   "outputs": [
    {
     "ename": "SyntaxError",
     "evalue": "unexpected EOF while parsing (<ipython-input-96-ad46d162ef79>, line 19)",
     "output_type": "error",
     "traceback": [
      "\u001b[1;36m  File \u001b[1;32m\"<ipython-input-96-ad46d162ef79>\"\u001b[1;36m, line \u001b[1;32m19\u001b[0m\n\u001b[1;33m    print(df\u001b[0m\n\u001b[1;37m            ^\u001b[0m\n\u001b[1;31mSyntaxError\u001b[0m\u001b[1;31m:\u001b[0m unexpected EOF while parsing\n"
     ]
    }
   ],
   "source": []
  },
  {
   "cell_type": "code",
   "execution_count": 99,
   "metadata": {},
   "outputs": [
    {
     "ename": "NameError",
     "evalue": "name 'main' is not defined",
     "output_type": "error",
     "traceback": [
      "\u001b[1;31m---------------------------------------------------------------------------\u001b[0m",
      "\u001b[1;31mNameError\u001b[0m                                 Traceback (most recent call last)",
      "\u001b[1;32m<ipython-input-99-ec8b86d506aa>\u001b[0m in \u001b[0;36m<module>\u001b[1;34m\u001b[0m\n\u001b[0;32m      1\u001b[0m \u001b[1;32mif\u001b[0m \u001b[0m__name__\u001b[0m\u001b[1;33m==\u001b[0m \u001b[1;34m\"__main__\"\u001b[0m\u001b[1;33m:\u001b[0m\u001b[1;33m\u001b[0m\u001b[1;33m\u001b[0m\u001b[0m\n\u001b[1;32m----> 2\u001b[1;33m     \u001b[0mmain\u001b[0m\u001b[1;33m(\u001b[0m\u001b[1;33m)\u001b[0m\u001b[1;33m\u001b[0m\u001b[1;33m\u001b[0m\u001b[0m\n\u001b[0m",
      "\u001b[1;31mNameError\u001b[0m: name 'main' is not defined"
     ]
    }
   ],
   "source": []
  },
  {
   "cell_type": "code",
   "execution_count": 101,
   "metadata": {},
   "outputs": [
    {
     "name": "stdout",
     "output_type": "stream",
     "text": [
      "Table STUDENTS created successfully\n",
      "Sample data inserted successfully\n",
      "\n",
      "Original DataFrame:\n",
      "   id name subject  marks\n",
      "0   1    a       b     70\n",
      "1   2    b       c     70\n",
      "2   3    c       c     70\n",
      "\n",
      "Updating marks for ID 2 to 100...\n",
      "\n",
      "Updated DataFrame:\n",
      "   id name subject  marks\n",
      "0   1    a       b     70\n",
      "1   2    b       c    100\n",
      "2   3    c       c     70\n",
      "Updated data written back to the database.\n",
      "\n",
      "Data updated in the database\n",
      "\n",
      "DataFrame after writing to database:\n",
      "   id name subject  marks\n",
      "0   1    a       b     70\n",
      "1   2    b       c    100\n",
      "2   3    c       c     70\n"
     ]
    }
   ],
   "source": [
    "\n",
    "import pandas as pd\n",
    "from sqlalchemy import create_engine, Column, Integer, String, Sequence\n",
    "from sqlalchemy.ext.declarative import declarative_base\n",
    "from sqlalchemy.orm import sessionmaker\n",
    "\n",
    "# Setup SQLAlchemy\n",
    "engine = create_engine('sqlite:///student25.db')\n",
    "Base = declarative_base()\n",
    "\n",
    "class Students(Base):\n",
    "    __tablename__ = \"STUDENTS\"\n",
    "    id = Column(Integer, Sequence('student_id_seq'), primary_key=True)\n",
    "    name = Column(String(50))\n",
    "    subject = Column(String(50))\n",
    "    marks = Column(Integer)\n",
    "\n",
    "def create_table():\n",
    "    Base.metadata.create_all(engine)\n",
    "    print(\"Table STUDENTS created successfully\")\n",
    "\n",
    "def insert_sample_data():\n",
    "    Session = sessionmaker(bind=engine)\n",
    "    session = Session()\n",
    "    \n",
    "    # Add student records\n",
    "    students_list = [\n",
    "        Students(name=\"a\", subject=\"b\", marks=70),\n",
    "        Students(name=\"b\", subject=\"c\", marks=70),\n",
    "        Students(name=\"c\", subject=\"c\", marks=70)\n",
    "    ]\n",
    "    \n",
    "    session.add_all(students_list)\n",
    "    session.commit()\n",
    "    session.close()\n",
    "    print(\"Sample data inserted successfully\")\n",
    "\n",
    "def read_data():\n",
    "    # Load data into DataFrame\n",
    "    df = pd.read_sql(\"STUDENTS\", con=engine)\n",
    "    return df\n",
    "\n",
    "def update_marks(df, id, new_marks):\n",
    "    df.loc[df['id'] == id, 'marks'] = new_marks\n",
    "    return df\n",
    "\n",
    "def write_data(df):\n",
    "    # Write DataFrame back to the database\n",
    "    df.to_sql('STUDENTS', con=engine, if_exists='replace', index=False)\n",
    "    print(\"Updated data written back to the database.\")\n",
    "\n",
    "def main():\n",
    "    create_table()\n",
    "    insert_sample_data()\n",
    "    \n",
    "    # Read data\n",
    "    df = read_data()\n",
    "    print(\"\\nOriginal DataFrame:\")\n",
    "    print(df)\n",
    "    \n",
    "    # Update data\n",
    "    print(\"\\nUpdating marks for ID 2 to 100...\")\n",
    "    df = update_marks(df, 2, 100)\n",
    "    \n",
    "    print(\"\\nUpdated DataFrame:\")\n",
    "    print(df)\n",
    "    \n",
    "    write_data(df)\n",
    "    print(\"\\nData updated in the database\")\n",
    "    \n",
    "    # Verify update\n",
    "    df = read_data()\n",
    "    print(\"\\nDataFrame after writing to database:\")\n",
    "    print(df)\n",
    "\n",
    "if __name__ == \"__main__\":\n",
    "    main()\n",
    "\n",
    "\n",
    "\n",
    "    \n",
    "\n",
    "    \n",
    "    \n",
    "    "
   ]
  },
  {
   "cell_type": "code",
   "execution_count": null,
   "metadata": {},
   "outputs": [],
   "source": []
  }
 ],
 "metadata": {
  "kernelspec": {
   "display_name": "Python 3",
   "language": "python",
   "name": "python3"
  },
  "language_info": {
   "codemirror_mode": {
    "name": "ipython",
    "version": 3
   },
   "file_extension": ".py",
   "mimetype": "text/x-python",
   "name": "python",
   "nbconvert_exporter": "python",
   "pygments_lexer": "ipython3",
   "version": "3.8.5"
  }
 },
 "nbformat": 4,
 "nbformat_minor": 4
}
