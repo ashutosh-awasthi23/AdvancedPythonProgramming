{
 "cells": [
  {
   "cell_type": "code",
   "execution_count": 26,
   "metadata": {},
   "outputs": [],
   "source": [
    "import sqlite3"
   ]
  },
  {
   "cell_type": "code",
   "execution_count": null,
   "metadata": {},
   "outputs": [],
   "source": []
  },
  {
   "cell_type": "code",
   "execution_count": 28,
   "metadata": {},
   "outputs": [
    {
     "name": "stdout",
     "output_type": "stream",
     "text": [
      "Inserting Data in students..\n",
      "Inserted data in students.\n",
      "\n",
      "\n",
      "Inserting Data in Courses..\n",
      "Inserted data in courses.\n",
      "\n",
      "\n",
      "Students whose grade is 'A':  [(1, 'ashutosh', 23, 'A')]\n",
      "All courses:\n",
      " [(1, 'AI', 'a'), (2, 'DAC', 'a'), (3, 'DBDA', 'b')]\n",
      "\n",
      "Updated student grade where name = 'ashutosh4':  [(1, 'ashutosh', 23, 'A'), (2, 'ashutosh1', 21, 'A+'), (3, 'ashutosh2', 22, 'B'), (4, 'ashutosh3', 25, 'C'), (5, 'ashutosh4', 24, 'A')]\n",
      "\n",
      "Updated course instructor where course_id = 2:  [(1, 'AI', 'a'), (2, 'DAC', 'AP'), (3, 'DBDA', 'b')]\n",
      "\n",
      "Deleted the record where student id = 4 [(1, 'ashutosh', 23, 'A'), (2, 'ashutosh1', 21, 'A+'), (3, 'ashutosh2', 22, 'B'), (5, 'ashutosh4', 24, 'A')]\n"
     ]
    }
   ],
   "source": [
    "\n",
    "try:\n",
    "    conn = sqlite3.connect('school_2.db')\n",
    "\n",
    "    cursor = conn.cursor()\n",
    "\n",
    "    cursor.execute(\n",
    "    ''' CREATE TABLE IF NOT EXISTS Students (ID INTEGER PRIMARY KEY, name TEXT NOT NULL, age INTEGER NOT NULL, grade TEXT) '''\n",
    "    )\n",
    "\n",
    "    cursor.execute(\n",
    "    ''' CREATE TABLE IF NOT EXISTS Courses (COURSE_ID INTEGER PRIMARY KEY, course_name TEXT NOT NULL, instructor TEXT) '''\n",
    "    )\n",
    "    \n",
    "    # Insert Data in Students\n",
    "    print(\"Inserting Data in students..\")\n",
    "    cursor.execute(\"INSERT INTO Students(name,age,grade) VAlUES ('ashutosh',23,'A')\")\n",
    "    cursor.execute(\"INSERT INTO Students(name,age,grade) VAlUES ('ashutosh1',21,'A+')\")\n",
    "    cursor.execute(\"INSERT INTO Students(name,age,grade) VAlUES ('ashutosh2',22,'B')\")\n",
    "    cursor.execute(\"INSERT INTO Students(name,age,grade) VAlUES ('ashutosh3',25,'C')\")\n",
    "    cursor.execute(\"INSERT INTO Students(name,age,grade) VAlUES ('ashutosh4',24,'D')\")\n",
    "    print(\"Inserted data in students.\\n\\n\")\n",
    "    \n",
    "    # Insert Data in Students\n",
    "    print(\"Inserting Data in Courses..\")\n",
    "    cursor.execute(\"INSERT INTO Courses (course_name,instructor) VAlUES ('AI','a')\")\n",
    "    cursor.execute(\"INSERT INTO Courses (course_name,instructor) VAlUES ('DAC','a')\")\n",
    "    cursor.execute(\"INSERT INTO Courses (course_name,instructor) VAlUES ('DBDA','b')\")\n",
    "    print(\"Inserted data in courses.\\n\\n\")\n",
    "    \n",
    "    # Select student whose grade is 'A'\n",
    "    cursor.execute(\"SELECT *  from Students where grade='A'\")\n",
    "    result=cursor.fetchall()\n",
    "    print(\"Students whose grade is 'A': \",result)\n",
    "\n",
    "    # Select ALL from courses\n",
    "    cursor.execute(\"SELECT * FROM Courses\")\n",
    "    result = cursor.fetchall()\n",
    "    print(\"All courses:\\n\", result)\n",
    "    print()\n",
    "\n",
    "    # Update Data\n",
    "    cursor.execute(\"UPDATE Students SET grade = 'A' WHERE name = 'ashutosh4'\")\n",
    "    cursor.execute(\"UPDATE Courses SET instructor = 'AP' WHERE course_id = 2 \")\n",
    "    conn.commit()\n",
    "\n",
    "    cursor.execute(\"SELECT * FROM Students\")\n",
    "    result = cursor.fetchall()\n",
    "    print(\"Updated student grade where name = 'ashutosh4': \", result)\n",
    "    print()\n",
    "\n",
    "    cursor.execute(\"SELECT * FROM Courses\")\n",
    "    result = cursor.fetchall()\n",
    "    print(\"Updated course instructor where course_id = 2: \", result)\n",
    "    print()\n",
    "\n",
    "\n",
    "    # Delete a record\n",
    "    cursor.execute(\"DELETE FROM Students where id = 4\")\n",
    "    conn.commit()\n",
    "    cursor.execute(\"SELECT * FROM Students\")\n",
    "    result = cursor.fetchall()\n",
    "    print(\"Deleted the record where student id = 4\", result)\n",
    "\n",
    "\n",
    "\n",
    "    cursor.execute(\"DROP TABLE Students\")\n",
    "    cursor.execute(\"DROP TABLE Courses\")\n",
    "    conn.commit()\n",
    "except:\n",
    "    print(\"An exception occured.\")\n",
    "\n",
    "finally:\n",
    "    cursor.close()\n",
    "    conn.close()"
   ]
  },
  {
   "cell_type": "code",
   "execution_count": 30,
   "metadata": {},
   "outputs": [],
   "source": [
    "# Handson: Constraints\n",
    "import sqlite3"
   ]
  },
  {
   "cell_type": "code",
   "execution_count": 33,
   "metadata": {},
   "outputs": [],
   "source": [
    "# try: "
   ]
  },
  {
   "cell_type": "code",
   "execution_count": 37,
   "metadata": {},
   "outputs": [],
   "source": [
    "# 1. Establish a connection\n",
    "conn = sqlite3.connect('company.db')\n",
    "conn.execute(\"PRAGMA foreign_keys = 1\")\n",
    "cursor = conn.cursor()"
   ]
  },
  {
   "cell_type": "code",
   "execution_count": 47,
   "metadata": {},
   "outputs": [
    {
     "data": {
      "text/plain": [
       "<sqlite3.Cursor at 0x1d91fb211f0>"
      ]
     },
     "execution_count": 47,
     "metadata": {},
     "output_type": "execute_result"
    }
   ],
   "source": [
    "# 2. Create deparments table with primary key\n",
    "cursor.execute(\n",
    "'''CREATE TABLE IF NOT EXISTS departments (dept_id INTEGER PRIMARY KEY, dept_name TEXT NOT NULL) '''\n",
    ")"
   ]
  },
  {
   "cell_type": "code",
   "execution_count": 50,
   "metadata": {},
   "outputs": [
    {
     "data": {
      "text/plain": [
       "<sqlite3.Cursor at 0x1d91fb211f0>"
      ]
     },
     "execution_count": 50,
     "metadata": {},
     "output_type": "execute_result"
    }
   ],
   "source": [
    "# 3. Create table 'employees' with primary key and foreign key\n",
    "cursor.execute('''\n",
    "    CREATE TABLE IF NOT EXISTS employees \n",
    "    (employee_id INTEGER PRIMARY KEY, \n",
    "    employee_name TEXT NOT NULL,\n",
    "    department_id INTEGER,\n",
    "    FOREIGN KEY (department_id) REFERENCES departments (dept_id))''')"
   ]
  },
  {
   "cell_type": "code",
   "execution_count": 52,
   "metadata": {},
   "outputs": [
    {
     "data": {
      "text/plain": [
       "<sqlite3.Cursor at 0x1d91fb211f0>"
      ]
     },
     "execution_count": 52,
     "metadata": {},
     "output_type": "execute_result"
    }
   ],
   "source": [
    "# 4 Create indexes\n",
    "cursor.execute('CREATE INDEX IF NOT EXISTS idx_employee_name ON employees (employee_name)')\n",
    "cursor.execute('CREATE INDEX IF NOT EXISTS idx_department_name ON employees (department_id)')"
   ]
  },
  {
   "cell_type": "code",
   "execution_count": 54,
   "metadata": {},
   "outputs": [
    {
     "data": {
      "text/plain": [
       "<sqlite3.Cursor at 0x1d91fb211f0>"
      ]
     },
     "execution_count": 54,
     "metadata": {},
     "output_type": "execute_result"
    }
   ],
   "source": [
    "cursor.execute(\"INSERT INTO departments (dept_name) VALUES ('HR')\")\n",
    "cursor.execute(\"INSERT INTO departments (dept_name) VALUES ('Engineering')\")\n",
    "cursor.execute(\"INSERT INTO departments (dept_name) VALUES ('Sales')\")"
   ]
  },
  {
   "cell_type": "code",
   "execution_count": 55,
   "metadata": {},
   "outputs": [
    {
     "data": {
      "text/plain": [
       "<sqlite3.Cursor at 0x1d91fb211f0>"
      ]
     },
     "execution_count": 55,
     "metadata": {},
     "output_type": "execute_result"
    }
   ],
   "source": [
    "cursor.execute(\"INSERT INTO employees (employee_name, department_id) VALUES ('AP', 2)\")\n",
    "cursor.execute(\"INSERT INTO employees (employee_name, department_id) VALUES ('BP', 1)\")\n",
    "cursor.execute(\"INSERT INTO employees (employee_name, department_id) VALUES ('CP', 1)\")\n",
    "cursor.execute(\"INSERT INTO employees (employee_name, department_id) VALUES ('DP', 3)\")\n",
    "cursor.execute(\"INSERT INTO employees (employee_name, department_id) VALUES ('EP', 2)\")"
   ]
  },
  {
   "cell_type": "code",
   "execution_count": 56,
   "metadata": {},
   "outputs": [],
   "source": [
    "conn.commit()"
   ]
  },
  {
   "cell_type": "code",
   "execution_count": 25,
   "metadata": {},
   "outputs": [],
   "source": [
    "print(\"Employees and their departments: \")"
   ]
  },
  {
   "cell_type": "code",
   "execution_count": null,
   "metadata": {},
   "outputs": [],
   "source": []
  }
 ],
 "metadata": {
  "kernelspec": {
   "display_name": "Python 3",
   "language": "python",
   "name": "python3"
  },
  "language_info": {
   "codemirror_mode": {
    "name": "ipython",
    "version": 3
   },
   "file_extension": ".py",
   "mimetype": "text/x-python",
   "name": "python",
   "nbconvert_exporter": "python",
   "pygments_lexer": "ipython3",
   "version": "3.8.5"
  }
 },
 "nbformat": 4,
 "nbformat_minor": 4
}
