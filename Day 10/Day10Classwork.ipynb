{
 "cells": [
  {
   "cell_type": "code",
   "execution_count": 1,
   "metadata": {},
   "outputs": [],
   "source": [
    "#Numpy_assignment\n",
    "#Accept 20 numbers from user an store them in 4(5 numbers in each list\n",
    "#Convert lists into 2 numpy array(list1,list2 in array1 and list3 and list4 in array2)"
   ]
  },
  {
   "cell_type": "code",
   "execution_count": 3,
   "metadata": {},
   "outputs": [],
   "source": [
    "a=[1,2,3,4,5]\n",
    "b=[6,7,8,9,10]\n",
    "c=[11,12,13,14,15]\n",
    "d=[16,17,18,19,20]"
   ]
  },
  {
   "cell_type": "code",
   "execution_count": 19,
   "metadata": {},
   "outputs": [
    {
     "data": {
      "text/plain": [
       "array([11, 12, 13, 14, 15, 16, 17, 18, 19, 20])"
      ]
     },
     "execution_count": 19,
     "metadata": {},
     "output_type": "execute_result"
    }
   ],
   "source": [
    "import numpy as np\n",
    "arr=np.array(a+b)\n",
    "arr\n",
    "arr1=np.array(c+d)\n",
    "arr1"
   ]
  },
  {
   "cell_type": "code",
   "execution_count": 27,
   "metadata": {},
   "outputs": [
    {
     "data": {
      "text/plain": [
       "array([12, 14, 16, 18, 20, 22, 24, 26, 28, 30])"
      ]
     },
     "execution_count": 27,
     "metadata": {},
     "output_type": "execute_result"
    }
   ],
   "source": [
    "a = arr+arr1\n",
    "a"
   ]
  },
  {
   "cell_type": "code",
   "execution_count": 20,
   "metadata": {},
   "outputs": [
    {
     "data": {
      "text/plain": [
       "array([12, 14, 16, 18, 20, 22, 24, 26, 28, 30])"
      ]
     },
     "execution_count": 20,
     "metadata": {},
     "output_type": "execute_result"
    }
   ],
   "source": [
    "np.add(arr,arr1)"
   ]
  },
  {
   "cell_type": "code",
   "execution_count": 21,
   "metadata": {},
   "outputs": [
    {
     "data": {
      "text/plain": [
       "array([10, 10, 10, 10, 10, 10, 10, 10, 10, 10])"
      ]
     },
     "execution_count": 21,
     "metadata": {},
     "output_type": "execute_result"
    }
   ],
   "source": [
    "np.subtract(arr1,arr)"
   ]
  },
  {
   "cell_type": "code",
   "execution_count": 29,
   "metadata": {},
   "outputs": [
    {
     "data": {
      "text/plain": [
       "array([10, 10, 10, 10, 10, 10, 10, 10, 10, 10])"
      ]
     },
     "execution_count": 29,
     "metadata": {},
     "output_type": "execute_result"
    }
   ],
   "source": [
    "a = arr1-arr\n",
    "a"
   ]
  },
  {
   "cell_type": "code",
   "execution_count": 24,
   "metadata": {},
   "outputs": [
    {
     "data": {
      "text/plain": [
       "array([ 11,  24,  39,  56,  75,  96, 119, 144, 171, 200])"
      ]
     },
     "execution_count": 24,
     "metadata": {},
     "output_type": "execute_result"
    }
   ],
   "source": [
    "np.multiply(arr,arr1)"
   ]
  },
  {
   "cell_type": "code",
   "execution_count": 30,
   "metadata": {},
   "outputs": [
    {
     "data": {
      "text/plain": [
       "array([ 11,  24,  39,  56,  75,  96, 119, 144, 171, 200])"
      ]
     },
     "execution_count": 30,
     "metadata": {},
     "output_type": "execute_result"
    }
   ],
   "source": [
    "a = arr*arr1\n",
    "a"
   ]
  },
  {
   "cell_type": "code",
   "execution_count": 18,
   "metadata": {},
   "outputs": [
    {
     "data": {
      "text/plain": [
       "array([2.71828183e+00, 7.38905610e+00, 2.00855369e+01, 5.45981500e+01,\n",
       "       1.48413159e+02, 4.03428793e+02, 1.09663316e+03, 2.98095799e+03,\n",
       "       8.10308393e+03, 2.20264658e+04])"
      ]
     },
     "execution_count": 18,
     "metadata": {},
     "output_type": "execute_result"
    }
   ],
   "source": [
    "np.exp(arr)"
   ]
  },
  {
   "cell_type": "code",
   "execution_count": 32,
   "metadata": {},
   "outputs": [
    {
     "data": {
      "text/plain": [
       "array([         11,         144,        2197,       38416,      759375,\n",
       "          16777216,   410338673, -1864941312,   565150579,   797966336],\n",
       "      dtype=int32)"
      ]
     },
     "execution_count": 32,
     "metadata": {},
     "output_type": "execute_result"
    }
   ],
   "source": [
    "a = arr1**arr\n",
    "a"
   ]
  },
  {
   "cell_type": "markdown",
   "metadata": {},
   "source": [
    "Time Series"
   ]
  },
  {
   "cell_type": "code",
   "execution_count": 34,
   "metadata": {},
   "outputs": [],
   "source": [
    "import pandas as pd\n",
    "import numpy as np"
   ]
  },
  {
   "cell_type": "code",
   "execution_count": 38,
   "metadata": {},
   "outputs": [
    {
     "name": "stdout",
     "output_type": "stream",
     "text": [
      "datetime64[ns] DatetimeIndex(['2024-01-01', '2024-01-02', '2024-01-03', '2024-01-04',\n",
      "               '2024-01-05', '2024-01-06', '2024-01-07', '2024-01-08',\n",
      "               '2024-01-09', '2024-01-10'],\n",
      "              dtype='datetime64[ns]', freq='D') \n",
      "\n"
     ]
    }
   ],
   "source": [
    "#create a date range\n",
    "dates=pd.date_range(start='2024-01-01',periods=10, freq='D') #D show sdaily H shows hourly\n",
    "print(dates.dtype,dates,\"\\n\")"
   ]
  },
  {
   "cell_type": "code",
   "execution_count": 41,
   "metadata": {},
   "outputs": [
    {
     "data": {
      "text/plain": [
       "2024-01-01    1.312103\n",
       "2024-01-02   -0.009620\n",
       "2024-01-03    1.538204\n",
       "2024-01-04   -0.484571\n",
       "2024-01-05    0.290818\n",
       "2024-01-06   -0.264577\n",
       "2024-01-07   -1.063359\n",
       "2024-01-08   -1.089200\n",
       "2024-01-09   -0.740297\n",
       "2024-01-10   -1.214817\n",
       "Freq: D, dtype: float64"
      ]
     },
     "execution_count": 41,
     "metadata": {},
     "output_type": "execute_result"
    }
   ],
   "source": [
    "#create a time series with random data\n",
    "data=np.random.randn(10)\n",
    "time_series=pd.Series(data,index=dates)\n",
    "time_series"
   ]
  },
  {
   "cell_type": "code",
   "execution_count": 44,
   "metadata": {},
   "outputs": [
    {
     "data": {
      "text/plain": [
       "0.29081759332026746"
      ]
     },
     "execution_count": 44,
     "metadata": {},
     "output_type": "execute_result"
    }
   ],
   "source": [
    "time_series['2024-01-05']"
   ]
  },
  {
   "cell_type": "code",
   "execution_count": 46,
   "metadata": {},
   "outputs": [
    {
     "data": {
      "text/plain": [
       "2024-01-03    1.538204\n",
       "2024-01-04   -0.484571\n",
       "2024-01-05    0.290818\n",
       "2024-01-06   -0.264577\n",
       "Freq: D, dtype: float64"
      ]
     },
     "execution_count": 46,
     "metadata": {},
     "output_type": "execute_result"
    }
   ],
   "source": [
    "time_series['2024-01-03':'2024-01-06']"
   ]
  },
  {
   "cell_type": "code",
   "execution_count": 48,
   "metadata": {},
   "outputs": [
    {
     "data": {
      "text/plain": [
       "2024-01-01    1.312103\n",
       "2024-01-03    1.538204\n",
       "2024-01-05    0.290818\n",
       "dtype: float64"
      ]
     },
     "execution_count": 48,
     "metadata": {},
     "output_type": "execute_result"
    }
   ],
   "source": [
    "time_series[time_series>0]"
   ]
  },
  {
   "cell_type": "code",
   "execution_count": 50,
   "metadata": {},
   "outputs": [
    {
     "data": {
      "text/plain": [
       "2024-01-01 00:00:00    1.249967\n",
       "2024-01-01 01:00:00   -1.791846\n",
       "2024-01-01 02:00:00   -0.644740\n",
       "2024-01-01 03:00:00    0.333930\n",
       "2024-01-01 04:00:00   -1.667775\n",
       "2024-01-01 05:00:00    1.399499\n",
       "2024-01-01 06:00:00   -0.036524\n",
       "2024-01-01 07:00:00   -0.908342\n",
       "2024-01-01 08:00:00   -0.727994\n",
       "2024-01-01 09:00:00   -0.273892\n",
       "2024-01-01 10:00:00    0.038014\n",
       "2024-01-01 11:00:00    0.413666\n",
       "2024-01-01 12:00:00   -1.890974\n",
       "2024-01-01 13:00:00   -0.605952\n",
       "2024-01-01 14:00:00   -0.821246\n",
       "2024-01-01 15:00:00   -0.549241\n",
       "2024-01-01 16:00:00    1.114475\n",
       "2024-01-01 17:00:00    1.197498\n",
       "2024-01-01 18:00:00   -0.668629\n",
       "2024-01-01 19:00:00   -0.573405\n",
       "2024-01-01 20:00:00   -0.395948\n",
       "2024-01-01 21:00:00    2.059898\n",
       "2024-01-01 22:00:00    0.103421\n",
       "2024-01-01 23:00:00    0.631891\n",
       "Freq: H, dtype: float64"
      ]
     },
     "execution_count": 50,
     "metadata": {},
     "output_type": "execute_result"
    }
   ],
   "source": [
    "hourly_dates=pd.date_range('2024-01-01',periods=24,freq='h')\n",
    "hourly_data=np.random.randn(24)\n",
    "hourly_series=pd.Series(hourly_data,index=hourly_dates)\n",
    "hourly_series"
   ]
  },
  {
   "cell_type": "code",
   "execution_count": 53,
   "metadata": {},
   "outputs": [
    {
     "data": {
      "text/plain": [
       "-0.5492407629145086"
      ]
     },
     "execution_count": 53,
     "metadata": {},
     "output_type": "execute_result"
    }
   ],
   "source": [
    "hourly_series['2024-01-01 15:00']"
   ]
  },
  {
   "cell_type": "code",
   "execution_count": 67,
   "metadata": {},
   "outputs": [
    {
     "data": {
      "text/plain": [
       "2024-01-01    1.312103\n",
       "2024-01-03    1.538204\n",
       "2024-01-05    0.290818\n",
       "dtype: float64"
      ]
     },
     "execution_count": 67,
     "metadata": {},
     "output_type": "execute_result"
    }
   ],
   "source": [
    "time_series['2024-01-01':'2024-01-10'][time_series>0]"
   ]
  },
  {
   "cell_type": "code",
   "execution_count": 57,
   "metadata": {},
   "outputs": [
    {
     "data": {
      "text/plain": [
       "0.29081759332026746"
      ]
     },
     "execution_count": 57,
     "metadata": {},
     "output_type": "execute_result"
    }
   ],
   "source": [
    "time_series.loc['2024-01-05']"
   ]
  },
  {
   "cell_type": "code",
   "execution_count": 59,
   "metadata": {},
   "outputs": [
    {
     "data": {
      "text/plain": [
       "2024-01-03    1.538204\n",
       "2024-01-04   -0.484571\n",
       "2024-01-05    0.290818\n",
       "2024-01-06   -0.264577\n",
       "Freq: D, dtype: float64"
      ]
     },
     "execution_count": 59,
     "metadata": {},
     "output_type": "execute_result"
    }
   ],
   "source": [
    "time_series.loc['2024-01-03':'2024-01-06']"
   ]
  },
  {
   "cell_type": "code",
   "execution_count": 62,
   "metadata": {},
   "outputs": [
    {
     "data": {
      "text/plain": [
       "2024-01-01    1.312103\n",
       "2024-01-03    1.538204\n",
       "2024-01-05    0.290818\n",
       "dtype: float64"
      ]
     },
     "execution_count": 62,
     "metadata": {},
     "output_type": "execute_result"
    }
   ],
   "source": [
    "time_series.loc[['2024-01-01','2024-01-03','2024-01-05']]"
   ]
  },
  {
   "cell_type": "code",
   "execution_count": 64,
   "metadata": {},
   "outputs": [
    {
     "data": {
      "text/plain": [
       "1.3121025663597286"
      ]
     },
     "execution_count": 64,
     "metadata": {},
     "output_type": "execute_result"
    }
   ],
   "source": [
    "time_series.iloc[0]"
   ]
  },
  {
   "cell_type": "code",
   "execution_count": 66,
   "metadata": {},
   "outputs": [
    {
     "data": {
      "text/plain": [
       "2024-01-03    1.538204\n",
       "2024-01-04   -0.484571\n",
       "2024-01-05    0.290818\n",
       "2024-01-06   -0.264577\n",
       "Freq: D, dtype: float64"
      ]
     },
     "execution_count": 66,
     "metadata": {},
     "output_type": "execute_result"
    }
   ],
   "source": [
    "time_series.iloc[2:6]"
   ]
  },
  {
   "cell_type": "code",
   "execution_count": 73,
   "metadata": {},
   "outputs": [
    {
     "data": {
      "text/plain": [
       "2024-01-01    1.312103\n",
       "2024-01-04   -0.484571\n",
       "2024-01-08   -1.089200\n",
       "dtype: float64"
      ]
     },
     "execution_count": 73,
     "metadata": {},
     "output_type": "execute_result"
    }
   ],
   "source": [
    "time_series.iloc[[0,3,7]]"
   ]
  },
  {
   "cell_type": "code",
   "execution_count": 75,
   "metadata": {},
   "outputs": [
    {
     "name": "stdout",
     "output_type": "stream",
     "text": [
      "2024-01-01    1.312103\n",
      "2024-01-02   -0.009620\n",
      "2024-01-03    1.538204\n",
      "2024-01-04   -0.484571\n",
      "2024-01-05    0.290818\n",
      "Freq: D, dtype: float64\n"
     ]
    }
   ],
   "source": [
    "#access date before a date\"\n",
    "print(time_series[:'2024-01-05'])"
   ]
  },
  {
   "cell_type": "code",
   "execution_count": 77,
   "metadata": {},
   "outputs": [
    {
     "name": "stdout",
     "output_type": "stream",
     "text": [
      "2024-01-06   -0.264577\n",
      "2024-01-07   -1.063359\n",
      "2024-01-08   -1.089200\n",
      "2024-01-09   -0.740297\n",
      "2024-01-10   -1.214817\n",
      "Freq: D, dtype: float64\n"
     ]
    }
   ],
   "source": [
    "#access data after a specfic date\n",
    "print(time_series['2024-01-06':])"
   ]
  },
  {
   "cell_type": "code",
   "execution_count": 80,
   "metadata": {},
   "outputs": [
    {
     "data": {
      "text/plain": [
       "2024-01-07    0.188428\n",
       "2024-01-14   -1.014771\n",
       "Freq: W-SUN, dtype: float64"
      ]
     },
     "execution_count": 80,
     "metadata": {},
     "output_type": "execute_result"
    }
   ],
   "source": [
    "#resampling\n",
    "\n",
    "weekly_series=time_series.resample('W').mean()\n",
    "weekly_series"
   ]
  },
  {
   "cell_type": "code",
   "execution_count": 84,
   "metadata": {},
   "outputs": [
    {
     "data": {
      "text/plain": [
       "2024-01-01         NaN\n",
       "2024-01-02         NaN\n",
       "2024-01-03    0.946896\n",
       "2024-01-04    0.348005\n",
       "2024-01-05    0.448150\n",
       "2024-01-06   -0.152777\n",
       "2024-01-07   -0.345706\n",
       "2024-01-08   -0.805712\n",
       "2024-01-09   -0.964286\n",
       "2024-01-10   -1.014771\n",
       "Freq: D, dtype: float64"
      ]
     },
     "execution_count": 84,
     "metadata": {},
     "output_type": "execute_result"
    }
   ],
   "source": [
    "rolling_mean=time_series.rolling(window=3).mean()\n",
    "rolling_mean"
   ]
  },
  {
   "cell_type": "code",
   "execution_count": 90,
   "metadata": {},
   "outputs": [
    {
     "data": {
      "text/plain": [
       "2024-01-07    0.300595\n",
       "2024-01-14   -1.014771\n",
       "Freq: W-SUN, dtype: float64"
      ]
     },
     "execution_count": 90,
     "metadata": {},
     "output_type": "execute_result"
    }
   ],
   "source": [
    "time_series['2024-01-04']=np.nan\n",
    "filled_series=time_series.ffill()\n",
    "weekly_series=time_series.resample('W').mean()\n",
    "weekly_series"
   ]
  },
  {
   "cell_type": "code",
   "execution_count": 92,
   "metadata": {},
   "outputs": [
    {
     "data": {
      "text/plain": [
       "2024-01-01    1.312103\n",
       "2024-01-02   -0.009620\n",
       "2024-01-03    1.538204\n",
       "2024-01-04    0.290818\n",
       "2024-01-05    0.290818\n",
       "2024-01-06   -0.264577\n",
       "2024-01-07   -1.063359\n",
       "2024-01-08   -1.089200\n",
       "2024-01-09   -0.740297\n",
       "2024-01-10   -1.214817\n",
       "Freq: D, dtype: float64"
      ]
     },
     "execution_count": 92,
     "metadata": {},
     "output_type": "execute_result"
    }
   ],
   "source": [
    "filled_backward=time_series.bfill()\n",
    "filled_backward"
   ]
  },
  {
   "cell_type": "code",
   "execution_count": 95,
   "metadata": {},
   "outputs": [
    {
     "data": {
      "text/plain": [
       "2024-01-01    1.312103\n",
       "2024-01-02   -0.009620\n",
       "2024-01-03    1.538204\n",
       "2024-01-04    0.914511\n",
       "2024-01-05    0.290818\n",
       "2024-01-06   -0.264577\n",
       "2024-01-07   -1.063359\n",
       "2024-01-08   -1.089200\n",
       "2024-01-09   -0.740297\n",
       "2024-01-10   -1.214817\n",
       "Freq: D, dtype: float64"
      ]
     },
     "execution_count": 95,
     "metadata": {},
     "output_type": "execute_result"
    }
   ],
   "source": [
    "interpolated=time_series.interpolate()\n",
    "interpolated"
   ]
  },
  {
   "cell_type": "code",
   "execution_count": 99,
   "metadata": {},
   "outputs": [
    {
     "data": {
      "text/plain": [
       "DatetimeIndex(['2024-01-01', '2024-01-02', '2024-01-03', '2024-01-04',\n",
       "               '2024-01-05', '2024-01-06', '2024-01-07', '2024-01-08',\n",
       "               '2024-01-09', '2024-01-10'],\n",
       "              dtype='datetime64[ns]', freq='D')"
      ]
     },
     "execution_count": 99,
     "metadata": {},
     "output_type": "execute_result"
    }
   ],
   "source": [
    "dates=pd.date_range(start=\"2024-01-01\",periods=10,freq=\"D\")\n",
    "dates"
   ]
  },
  {
   "cell_type": "code",
   "execution_count": 104,
   "metadata": {},
   "outputs": [
    {
     "data": {
      "text/plain": [
       "2024-01-01     1.0\n",
       "2024-01-02     2.0\n",
       "2024-01-03     NaN\n",
       "2024-01-04     4.0\n",
       "2024-01-05     NaN\n",
       "2024-01-06     6.0\n",
       "2024-01-07     7.0\n",
       "2024-01-08     NaN\n",
       "2024-01-09     9.0\n",
       "2024-01-10    10.0\n",
       "Freq: D, dtype: float64"
      ]
     },
     "execution_count": 104,
     "metadata": {},
     "output_type": "execute_result"
    }
   ],
   "source": [
    "data=[1,2,np.nan,4,np.nan,6,7,np.nan,9,10]\n",
    "time_series=pd.Series(data,index=dates)\n",
    "time_series"
   ]
  },
  {
   "cell_type": "code",
   "execution_count": 107,
   "metadata": {},
   "outputs": [
    {
     "data": {
      "text/plain": [
       "2024-01-01    False\n",
       "2024-01-02    False\n",
       "2024-01-03     True\n",
       "2024-01-04    False\n",
       "2024-01-05     True\n",
       "2024-01-06    False\n",
       "2024-01-07    False\n",
       "2024-01-08     True\n",
       "2024-01-09    False\n",
       "2024-01-10    False\n",
       "Freq: D, dtype: bool"
      ]
     },
     "execution_count": 107,
     "metadata": {},
     "output_type": "execute_result"
    }
   ],
   "source": [
    "missing_values=time_series.isna()\n",
    "missing_values"
   ]
  },
  {
   "cell_type": "code",
   "execution_count": 111,
   "metadata": {},
   "outputs": [
    {
     "data": {
      "text/plain": [
       "3"
      ]
     },
     "execution_count": 111,
     "metadata": {},
     "output_type": "execute_result"
    }
   ],
   "source": [
    "num_missing=missing_values.sum()\n",
    "num_missing"
   ]
  },
  {
   "cell_type": "code",
   "execution_count": 113,
   "metadata": {},
   "outputs": [
    {
     "data": {
      "text/plain": [
       "DatetimeIndex(['2024-01-03', '2024-01-05', '2024-01-08'], dtype='datetime64[ns]', freq=None)"
      ]
     },
     "execution_count": 113,
     "metadata": {},
     "output_type": "execute_result"
    }
   ],
   "source": [
    "missing_indices=time_series.index[missing_values]\n",
    "missing_indices"
   ]
  },
  {
   "cell_type": "code",
   "execution_count": 115,
   "metadata": {},
   "outputs": [
    {
     "data": {
      "text/plain": [
       "2024-01-01     1.0\n",
       "2024-01-02     2.0\n",
       "2024-01-03     0.0\n",
       "2024-01-04     4.0\n",
       "2024-01-05     0.0\n",
       "2024-01-06     6.0\n",
       "2024-01-07     7.0\n",
       "2024-01-08     0.0\n",
       "2024-01-09     9.0\n",
       "2024-01-10    10.0\n",
       "Freq: D, dtype: float64"
      ]
     },
     "execution_count": 115,
     "metadata": {},
     "output_type": "execute_result"
    }
   ],
   "source": [
    "filled_value=time_series.fillna(0)\n",
    "filled_value"
   ]
  },
  {
   "cell_type": "code",
   "execution_count": 118,
   "metadata": {},
   "outputs": [
    {
     "data": {
      "text/plain": [
       "2024-01-01     1.0\n",
       "2024-01-02     2.0\n",
       "2024-01-04     4.0\n",
       "2024-01-06     6.0\n",
       "2024-01-07     7.0\n",
       "2024-01-09     9.0\n",
       "2024-01-10    10.0\n",
       "dtype: float64"
      ]
     },
     "execution_count": 118,
     "metadata": {},
     "output_type": "execute_result"
    }
   ],
   "source": [
    "dropped=time_series.dropna()\n",
    "dropped"
   ]
  },
  {
   "cell_type": "code",
   "execution_count": 120,
   "metadata": {},
   "outputs": [
    {
     "data": {
      "text/plain": [
       "2024-01-07    0.300595\n",
       "2024-01-14   -1.014771\n",
       "Freq: W-SUN, dtype: float64"
      ]
     },
     "execution_count": 120,
     "metadata": {},
     "output_type": "execute_result"
    }
   ],
   "source": [
    "weekly_series"
   ]
  },
  {
   "cell_type": "code",
   "execution_count": 123,
   "metadata": {},
   "outputs": [
    {
     "data": {
      "text/plain": [
       "2024-01-01    0\n",
       "2024-01-02    1\n",
       "2024-01-03    2\n",
       "2024-01-04    3\n",
       "2024-01-05    4\n",
       "2024-01-06    5\n",
       "2024-01-07    6\n",
       "2024-01-08    7\n",
       "2024-01-09    8\n",
       "2024-01-10    9\n",
       "Freq: D, dtype: int32"
      ]
     },
     "execution_count": 123,
     "metadata": {},
     "output_type": "execute_result"
    }
   ],
   "source": [
    "dates=pd.date_range(start=\"2024-01-01\",periods=10,freq='D')\n",
    "data=np.arange(10)\n",
    "time_series=pd.Series(data,index=dates)\n",
    "time_series"
   ]
  },
  {
   "cell_type": "code",
   "execution_count": 128,
   "metadata": {},
   "outputs": [
    {
     "data": {
      "text/plain": [
       "2024-01-01    NaN\n",
       "2024-01-02    NaN\n",
       "2024-01-03    0.0\n",
       "2024-01-04    1.0\n",
       "2024-01-05    2.0\n",
       "2024-01-06    3.0\n",
       "2024-01-07    4.0\n",
       "2024-01-08    5.0\n",
       "2024-01-09    6.0\n",
       "2024-01-10    7.0\n",
       "Freq: D, dtype: float64"
      ]
     },
     "execution_count": 128,
     "metadata": {},
     "output_type": "execute_result"
    }
   ],
   "source": [
    "shifted_forward=time_series.shift(2)\n",
    "shifted_forward"
   ]
  },
  {
   "cell_type": "code",
   "execution_count": 131,
   "metadata": {},
   "outputs": [
    {
     "data": {
      "text/plain": [
       "2024-01-01    2.0\n",
       "2024-01-02    3.0\n",
       "2024-01-03    4.0\n",
       "2024-01-04    5.0\n",
       "2024-01-05    6.0\n",
       "2024-01-06    7.0\n",
       "2024-01-07    8.0\n",
       "2024-01-08    9.0\n",
       "2024-01-09    NaN\n",
       "2024-01-10    NaN\n",
       "Freq: D, dtype: float64"
      ]
     },
     "execution_count": 131,
     "metadata": {},
     "output_type": "execute_result"
    }
   ],
   "source": [
    "shifted_backward=time_series.shift(-2)\n",
    "shifted_backward"
   ]
  },
  {
   "cell_type": "markdown",
   "metadata": {},
   "source": [
    "shifted_forward_filled=time_series.shift(2).fillna(0)\n",
    "shifted_forward_filled"
   ]
  },
  {
   "cell_type": "code",
   "execution_count": 163,
   "metadata": {},
   "outputs": [
    {
     "data": {
      "text/html": [
       "<div>\n",
       "<style scoped>\n",
       "    .dataframe tbody tr th:only-of-type {\n",
       "        vertical-align: middle;\n",
       "    }\n",
       "\n",
       "    .dataframe tbody tr th {\n",
       "        vertical-align: top;\n",
       "    }\n",
       "\n",
       "    .dataframe thead th {\n",
       "        text-align: right;\n",
       "    }\n",
       "</style>\n",
       "<table border=\"1\" class=\"dataframe\">\n",
       "  <thead>\n",
       "    <tr style=\"text-align: right;\">\n",
       "      <th></th>\n",
       "      <th>Open</th>\n",
       "      <th>High</th>\n",
       "      <th>Low</th>\n",
       "      <th>Close</th>\n",
       "      <th>Adj Close</th>\n",
       "      <th>Volume</th>\n",
       "    </tr>\n",
       "    <tr>\n",
       "      <th>Date</th>\n",
       "      <th></th>\n",
       "      <th></th>\n",
       "      <th></th>\n",
       "      <th></th>\n",
       "      <th></th>\n",
       "      <th></th>\n",
       "    </tr>\n",
       "  </thead>\n",
       "  <tbody>\n",
       "    <tr>\n",
       "      <th>1970-01-01 00:00:00.000000032</th>\n",
       "      <td>NaN</td>\n",
       "      <td>35.765381</td>\n",
       "      <td>28.612303</td>\n",
       "      <td>31.473534</td>\n",
       "      <td>2.706866e+01</td>\n",
       "      <td>62546300.0</td>\n",
       "    </tr>\n",
       "    <tr>\n",
       "      <th>1970-01-01 00:00:00.000000030</th>\n",
       "      <td>30.758226</td>\n",
       "      <td>28.478184</td>\n",
       "      <td>28.880543</td>\n",
       "      <td>24.838577</td>\n",
       "      <td>1.523410e+07</td>\n",
       "      <td>NaN</td>\n",
       "    </tr>\n",
       "    <tr>\n",
       "      <th>1970-01-01 00:00:00.000000029</th>\n",
       "      <td>31.473534</td>\n",
       "      <td>28.657009</td>\n",
       "      <td>31.473534</td>\n",
       "      <td>27.068665</td>\n",
       "      <td>6.577800e+06</td>\n",
       "      <td>NaN</td>\n",
       "    </tr>\n",
       "    <tr>\n",
       "      <th>1970-01-01 00:00:00.000000030</th>\n",
       "      <td>31.205294</td>\n",
       "      <td>28.612303</td>\n",
       "      <td>28.612303</td>\n",
       "      <td>24.607880</td>\n",
       "      <td>5.975600e+06</td>\n",
       "      <td>NaN</td>\n",
       "    </tr>\n",
       "    <tr>\n",
       "      <th>1970-01-01 00:00:00.000000028</th>\n",
       "      <td>29.998211</td>\n",
       "      <td>28.612303</td>\n",
       "      <td>29.372318</td>\n",
       "      <td>25.261524</td>\n",
       "      <td>4.843200e+06</td>\n",
       "      <td>NaN</td>\n",
       "    </tr>\n",
       "    <tr>\n",
       "      <th>...</th>\n",
       "      <td>...</td>\n",
       "      <td>...</td>\n",
       "      <td>...</td>\n",
       "      <td>...</td>\n",
       "      <td>...</td>\n",
       "      <td>...</td>\n",
       "    </tr>\n",
       "    <tr>\n",
       "      <th>1970-01-01 00:00:00.000000070</th>\n",
       "      <td>74.449997</td>\n",
       "      <td>69.650002</td>\n",
       "      <td>73.720001</td>\n",
       "      <td>73.532867</td>\n",
       "      <td>3.267500e+06</td>\n",
       "      <td>NaN</td>\n",
       "    </tr>\n",
       "    <tr>\n",
       "      <th>1970-01-01 00:00:00.000000071</th>\n",
       "      <td>73.209999</td>\n",
       "      <td>70.279999</td>\n",
       "      <td>70.910004</td>\n",
       "      <td>70.730003</td>\n",
       "      <td>1.829800e+06</td>\n",
       "      <td>NaN</td>\n",
       "    </tr>\n",
       "    <tr>\n",
       "      <th>1970-01-01 00:00:00.000000071</th>\n",
       "      <td>73.180000</td>\n",
       "      <td>71.059998</td>\n",
       "      <td>72.669998</td>\n",
       "      <td>72.669998</td>\n",
       "      <td>1.486200e+06</td>\n",
       "      <td>NaN</td>\n",
       "    </tr>\n",
       "    <tr>\n",
       "      <th>1970-01-01 00:00:00.000000072</th>\n",
       "      <td>72.800003</td>\n",
       "      <td>70.500000</td>\n",
       "      <td>71.620003</td>\n",
       "      <td>71.620003</td>\n",
       "      <td>1.822100e+06</td>\n",
       "      <td>NaN</td>\n",
       "    </tr>\n",
       "    <tr>\n",
       "      <th>1970-01-01 00:00:00.000000069</th>\n",
       "      <td>70.230003</td>\n",
       "      <td>68.150002</td>\n",
       "      <td>68.919998</td>\n",
       "      <td>68.919998</td>\n",
       "      <td>2.173600e+06</td>\n",
       "      <td>NaN</td>\n",
       "    </tr>\n",
       "  </tbody>\n",
       "</table>\n",
       "<p>5124 rows × 6 columns</p>\n",
       "</div>"
      ],
      "text/plain": [
       "                                    Open       High        Low      Close  \\\n",
       "Date                                                                        \n",
       "1970-01-01 00:00:00.000000032        NaN  35.765381  28.612303  31.473534   \n",
       "1970-01-01 00:00:00.000000030  30.758226  28.478184  28.880543  24.838577   \n",
       "1970-01-01 00:00:00.000000029  31.473534  28.657009  31.473534  27.068665   \n",
       "1970-01-01 00:00:00.000000030  31.205294  28.612303  28.612303  24.607880   \n",
       "1970-01-01 00:00:00.000000028  29.998211  28.612303  29.372318  25.261524   \n",
       "...                                  ...        ...        ...        ...   \n",
       "1970-01-01 00:00:00.000000070  74.449997  69.650002  73.720001  73.532867   \n",
       "1970-01-01 00:00:00.000000071  73.209999  70.279999  70.910004  70.730003   \n",
       "1970-01-01 00:00:00.000000071  73.180000  71.059998  72.669998  72.669998   \n",
       "1970-01-01 00:00:00.000000072  72.800003  70.500000  71.620003  71.620003   \n",
       "1970-01-01 00:00:00.000000069  70.230003  68.150002  68.919998  68.919998   \n",
       "\n",
       "                                  Adj Close      Volume  \n",
       "Date                                                     \n",
       "1970-01-01 00:00:00.000000032  2.706866e+01  62546300.0  \n",
       "1970-01-01 00:00:00.000000030  1.523410e+07         NaN  \n",
       "1970-01-01 00:00:00.000000029  6.577800e+06         NaN  \n",
       "1970-01-01 00:00:00.000000030  5.975600e+06         NaN  \n",
       "1970-01-01 00:00:00.000000028  4.843200e+06         NaN  \n",
       "...                                     ...         ...  \n",
       "1970-01-01 00:00:00.000000070  3.267500e+06         NaN  \n",
       "1970-01-01 00:00:00.000000071  1.829800e+06         NaN  \n",
       "1970-01-01 00:00:00.000000071  1.486200e+06         NaN  \n",
       "1970-01-01 00:00:00.000000072  1.822100e+06         NaN  \n",
       "1970-01-01 00:00:00.000000069  2.173600e+06         NaN  \n",
       "\n",
       "[5124 rows x 6 columns]"
      ]
     },
     "execution_count": 163,
     "metadata": {},
     "output_type": "execute_result"
    }
   ],
   "source": [
    "#analyzing and forecasting stock exchange data\n",
    "import pandas as pd\n",
    "df=pd.read_csv(\"A.csv\")\n",
    "df.head()\n",
    "df['Date']=pd.to_datetime(df['Date'])\n",
    "df.set_index('Date',inplace=True)\n",
    "df\n"
   ]
  },
  {
   "cell_type": "code",
   "execution_count": 164,
   "metadata": {},
   "outputs": [
    {
     "data": {
      "text/plain": [
       "Open            1\n",
       "High            0\n",
       "Low             0\n",
       "Close           0\n",
       "Adj Close       0\n",
       "Volume       5123\n",
       "dtype: int64"
      ]
     },
     "execution_count": 164,
     "metadata": {},
     "output_type": "execute_result"
    }
   ],
   "source": [
    "df.isna().sum()"
   ]
  },
  {
   "cell_type": "code",
   "execution_count": 169,
   "metadata": {},
   "outputs": [
    {
     "data": {
      "text/html": [
       "<div>\n",
       "<style scoped>\n",
       "    .dataframe tbody tr th:only-of-type {\n",
       "        vertical-align: middle;\n",
       "    }\n",
       "\n",
       "    .dataframe tbody tr th {\n",
       "        vertical-align: top;\n",
       "    }\n",
       "\n",
       "    .dataframe thead th {\n",
       "        text-align: right;\n",
       "    }\n",
       "</style>\n",
       "<table border=\"1\" class=\"dataframe\">\n",
       "  <thead>\n",
       "    <tr style=\"text-align: right;\">\n",
       "      <th></th>\n",
       "      <th>Open</th>\n",
       "      <th>High</th>\n",
       "      <th>Low</th>\n",
       "      <th>Close</th>\n",
       "      <th>Adj Close</th>\n",
       "      <th>Volume</th>\n",
       "    </tr>\n",
       "    <tr>\n",
       "      <th>Date</th>\n",
       "      <th></th>\n",
       "      <th></th>\n",
       "      <th></th>\n",
       "      <th></th>\n",
       "      <th></th>\n",
       "      <th></th>\n",
       "    </tr>\n",
       "  </thead>\n",
       "  <tbody>\n",
       "    <tr>\n",
       "      <th>1970-01-01 00:00:00.000000032</th>\n",
       "      <td>30.758226</td>\n",
       "      <td>35.765381</td>\n",
       "      <td>28.612303</td>\n",
       "      <td>31.473534</td>\n",
       "      <td>2.706866e+01</td>\n",
       "      <td>62546300.0</td>\n",
       "    </tr>\n",
       "    <tr>\n",
       "      <th>1970-01-01 00:00:00.000000030</th>\n",
       "      <td>30.758226</td>\n",
       "      <td>28.478184</td>\n",
       "      <td>28.880543</td>\n",
       "      <td>24.838577</td>\n",
       "      <td>1.523410e+07</td>\n",
       "      <td>NaN</td>\n",
       "    </tr>\n",
       "    <tr>\n",
       "      <th>1970-01-01 00:00:00.000000029</th>\n",
       "      <td>31.473534</td>\n",
       "      <td>28.657009</td>\n",
       "      <td>31.473534</td>\n",
       "      <td>27.068665</td>\n",
       "      <td>6.577800e+06</td>\n",
       "      <td>NaN</td>\n",
       "    </tr>\n",
       "    <tr>\n",
       "      <th>1970-01-01 00:00:00.000000030</th>\n",
       "      <td>31.205294</td>\n",
       "      <td>28.612303</td>\n",
       "      <td>28.612303</td>\n",
       "      <td>24.607880</td>\n",
       "      <td>5.975600e+06</td>\n",
       "      <td>NaN</td>\n",
       "    </tr>\n",
       "    <tr>\n",
       "      <th>1970-01-01 00:00:00.000000028</th>\n",
       "      <td>29.998211</td>\n",
       "      <td>28.612303</td>\n",
       "      <td>29.372318</td>\n",
       "      <td>25.261524</td>\n",
       "      <td>4.843200e+06</td>\n",
       "      <td>NaN</td>\n",
       "    </tr>\n",
       "    <tr>\n",
       "      <th>...</th>\n",
       "      <td>...</td>\n",
       "      <td>...</td>\n",
       "      <td>...</td>\n",
       "      <td>...</td>\n",
       "      <td>...</td>\n",
       "      <td>...</td>\n",
       "    </tr>\n",
       "    <tr>\n",
       "      <th>1970-01-01 00:00:00.000000070</th>\n",
       "      <td>74.449997</td>\n",
       "      <td>69.650002</td>\n",
       "      <td>73.720001</td>\n",
       "      <td>73.532867</td>\n",
       "      <td>3.267500e+06</td>\n",
       "      <td>NaN</td>\n",
       "    </tr>\n",
       "    <tr>\n",
       "      <th>1970-01-01 00:00:00.000000071</th>\n",
       "      <td>73.209999</td>\n",
       "      <td>70.279999</td>\n",
       "      <td>70.910004</td>\n",
       "      <td>70.730003</td>\n",
       "      <td>1.829800e+06</td>\n",
       "      <td>NaN</td>\n",
       "    </tr>\n",
       "    <tr>\n",
       "      <th>1970-01-01 00:00:00.000000071</th>\n",
       "      <td>73.180000</td>\n",
       "      <td>71.059998</td>\n",
       "      <td>72.669998</td>\n",
       "      <td>72.669998</td>\n",
       "      <td>1.486200e+06</td>\n",
       "      <td>NaN</td>\n",
       "    </tr>\n",
       "    <tr>\n",
       "      <th>1970-01-01 00:00:00.000000072</th>\n",
       "      <td>72.800003</td>\n",
       "      <td>70.500000</td>\n",
       "      <td>71.620003</td>\n",
       "      <td>71.620003</td>\n",
       "      <td>1.822100e+06</td>\n",
       "      <td>NaN</td>\n",
       "    </tr>\n",
       "    <tr>\n",
       "      <th>1970-01-01 00:00:00.000000069</th>\n",
       "      <td>70.230003</td>\n",
       "      <td>68.150002</td>\n",
       "      <td>68.919998</td>\n",
       "      <td>68.919998</td>\n",
       "      <td>2.173600e+06</td>\n",
       "      <td>NaN</td>\n",
       "    </tr>\n",
       "  </tbody>\n",
       "</table>\n",
       "<p>5124 rows × 6 columns</p>\n",
       "</div>"
      ],
      "text/plain": [
       "                                    Open       High        Low      Close  \\\n",
       "Date                                                                        \n",
       "1970-01-01 00:00:00.000000032  30.758226  35.765381  28.612303  31.473534   \n",
       "1970-01-01 00:00:00.000000030  30.758226  28.478184  28.880543  24.838577   \n",
       "1970-01-01 00:00:00.000000029  31.473534  28.657009  31.473534  27.068665   \n",
       "1970-01-01 00:00:00.000000030  31.205294  28.612303  28.612303  24.607880   \n",
       "1970-01-01 00:00:00.000000028  29.998211  28.612303  29.372318  25.261524   \n",
       "...                                  ...        ...        ...        ...   \n",
       "1970-01-01 00:00:00.000000070  74.449997  69.650002  73.720001  73.532867   \n",
       "1970-01-01 00:00:00.000000071  73.209999  70.279999  70.910004  70.730003   \n",
       "1970-01-01 00:00:00.000000071  73.180000  71.059998  72.669998  72.669998   \n",
       "1970-01-01 00:00:00.000000072  72.800003  70.500000  71.620003  71.620003   \n",
       "1970-01-01 00:00:00.000000069  70.230003  68.150002  68.919998  68.919998   \n",
       "\n",
       "                                  Adj Close      Volume  \n",
       "Date                                                     \n",
       "1970-01-01 00:00:00.000000032  2.706866e+01  62546300.0  \n",
       "1970-01-01 00:00:00.000000030  1.523410e+07         NaN  \n",
       "1970-01-01 00:00:00.000000029  6.577800e+06         NaN  \n",
       "1970-01-01 00:00:00.000000030  5.975600e+06         NaN  \n",
       "1970-01-01 00:00:00.000000028  4.843200e+06         NaN  \n",
       "...                                     ...         ...  \n",
       "1970-01-01 00:00:00.000000070  3.267500e+06         NaN  \n",
       "1970-01-01 00:00:00.000000071  1.829800e+06         NaN  \n",
       "1970-01-01 00:00:00.000000071  1.486200e+06         NaN  \n",
       "1970-01-01 00:00:00.000000072  1.822100e+06         NaN  \n",
       "1970-01-01 00:00:00.000000069  2.173600e+06         NaN  \n",
       "\n",
       "[5124 rows x 6 columns]"
      ]
     },
     "execution_count": 169,
     "metadata": {},
     "output_type": "execute_result"
    }
   ],
   "source": [
    "df.bfill()\n"
   ]
  },
  {
   "cell_type": "code",
   "execution_count": 172,
   "metadata": {},
   "outputs": [
    {
     "data": {
      "text/html": [
       "<div>\n",
       "<style scoped>\n",
       "    .dataframe tbody tr th:only-of-type {\n",
       "        vertical-align: middle;\n",
       "    }\n",
       "\n",
       "    .dataframe tbody tr th {\n",
       "        vertical-align: top;\n",
       "    }\n",
       "\n",
       "    .dataframe thead th {\n",
       "        text-align: right;\n",
       "    }\n",
       "</style>\n",
       "<table border=\"1\" class=\"dataframe\">\n",
       "  <thead>\n",
       "    <tr style=\"text-align: right;\">\n",
       "      <th></th>\n",
       "      <th>Open</th>\n",
       "      <th>High</th>\n",
       "      <th>Low</th>\n",
       "      <th>Close</th>\n",
       "      <th>Adj Close</th>\n",
       "      <th>Volume</th>\n",
       "    </tr>\n",
       "    <tr>\n",
       "      <th>Date</th>\n",
       "      <th></th>\n",
       "      <th></th>\n",
       "      <th></th>\n",
       "      <th></th>\n",
       "      <th></th>\n",
       "      <th></th>\n",
       "    </tr>\n",
       "  </thead>\n",
       "  <tbody>\n",
       "    <tr>\n",
       "      <th>1970-01-01 00:00:00.000000032</th>\n",
       "      <td>NaN</td>\n",
       "      <td>35.765381</td>\n",
       "      <td>28.612303</td>\n",
       "      <td>31.473534</td>\n",
       "      <td>2.706866e+01</td>\n",
       "      <td>62546300.0</td>\n",
       "    </tr>\n",
       "    <tr>\n",
       "      <th>1970-01-01 00:00:00.000000030</th>\n",
       "      <td>30.758226</td>\n",
       "      <td>28.478184</td>\n",
       "      <td>28.880543</td>\n",
       "      <td>24.838577</td>\n",
       "      <td>1.523410e+07</td>\n",
       "      <td>62546300.0</td>\n",
       "    </tr>\n",
       "    <tr>\n",
       "      <th>1970-01-01 00:00:00.000000029</th>\n",
       "      <td>31.473534</td>\n",
       "      <td>28.657009</td>\n",
       "      <td>31.473534</td>\n",
       "      <td>27.068665</td>\n",
       "      <td>6.577800e+06</td>\n",
       "      <td>62546300.0</td>\n",
       "    </tr>\n",
       "    <tr>\n",
       "      <th>1970-01-01 00:00:00.000000030</th>\n",
       "      <td>31.205294</td>\n",
       "      <td>28.612303</td>\n",
       "      <td>28.612303</td>\n",
       "      <td>24.607880</td>\n",
       "      <td>5.975600e+06</td>\n",
       "      <td>62546300.0</td>\n",
       "    </tr>\n",
       "    <tr>\n",
       "      <th>1970-01-01 00:00:00.000000028</th>\n",
       "      <td>29.998211</td>\n",
       "      <td>28.612303</td>\n",
       "      <td>29.372318</td>\n",
       "      <td>25.261524</td>\n",
       "      <td>4.843200e+06</td>\n",
       "      <td>62546300.0</td>\n",
       "    </tr>\n",
       "    <tr>\n",
       "      <th>...</th>\n",
       "      <td>...</td>\n",
       "      <td>...</td>\n",
       "      <td>...</td>\n",
       "      <td>...</td>\n",
       "      <td>...</td>\n",
       "      <td>...</td>\n",
       "    </tr>\n",
       "    <tr>\n",
       "      <th>1970-01-01 00:00:00.000000070</th>\n",
       "      <td>74.449997</td>\n",
       "      <td>69.650002</td>\n",
       "      <td>73.720001</td>\n",
       "      <td>73.532867</td>\n",
       "      <td>3.267500e+06</td>\n",
       "      <td>62546300.0</td>\n",
       "    </tr>\n",
       "    <tr>\n",
       "      <th>1970-01-01 00:00:00.000000071</th>\n",
       "      <td>73.209999</td>\n",
       "      <td>70.279999</td>\n",
       "      <td>70.910004</td>\n",
       "      <td>70.730003</td>\n",
       "      <td>1.829800e+06</td>\n",
       "      <td>62546300.0</td>\n",
       "    </tr>\n",
       "    <tr>\n",
       "      <th>1970-01-01 00:00:00.000000071</th>\n",
       "      <td>73.180000</td>\n",
       "      <td>71.059998</td>\n",
       "      <td>72.669998</td>\n",
       "      <td>72.669998</td>\n",
       "      <td>1.486200e+06</td>\n",
       "      <td>62546300.0</td>\n",
       "    </tr>\n",
       "    <tr>\n",
       "      <th>1970-01-01 00:00:00.000000072</th>\n",
       "      <td>72.800003</td>\n",
       "      <td>70.500000</td>\n",
       "      <td>71.620003</td>\n",
       "      <td>71.620003</td>\n",
       "      <td>1.822100e+06</td>\n",
       "      <td>62546300.0</td>\n",
       "    </tr>\n",
       "    <tr>\n",
       "      <th>1970-01-01 00:00:00.000000069</th>\n",
       "      <td>70.230003</td>\n",
       "      <td>68.150002</td>\n",
       "      <td>68.919998</td>\n",
       "      <td>68.919998</td>\n",
       "      <td>2.173600e+06</td>\n",
       "      <td>62546300.0</td>\n",
       "    </tr>\n",
       "  </tbody>\n",
       "</table>\n",
       "<p>5124 rows × 6 columns</p>\n",
       "</div>"
      ],
      "text/plain": [
       "                                    Open       High        Low      Close  \\\n",
       "Date                                                                        \n",
       "1970-01-01 00:00:00.000000032        NaN  35.765381  28.612303  31.473534   \n",
       "1970-01-01 00:00:00.000000030  30.758226  28.478184  28.880543  24.838577   \n",
       "1970-01-01 00:00:00.000000029  31.473534  28.657009  31.473534  27.068665   \n",
       "1970-01-01 00:00:00.000000030  31.205294  28.612303  28.612303  24.607880   \n",
       "1970-01-01 00:00:00.000000028  29.998211  28.612303  29.372318  25.261524   \n",
       "...                                  ...        ...        ...        ...   \n",
       "1970-01-01 00:00:00.000000070  74.449997  69.650002  73.720001  73.532867   \n",
       "1970-01-01 00:00:00.000000071  73.209999  70.279999  70.910004  70.730003   \n",
       "1970-01-01 00:00:00.000000071  73.180000  71.059998  72.669998  72.669998   \n",
       "1970-01-01 00:00:00.000000072  72.800003  70.500000  71.620003  71.620003   \n",
       "1970-01-01 00:00:00.000000069  70.230003  68.150002  68.919998  68.919998   \n",
       "\n",
       "                                  Adj Close      Volume  \n",
       "Date                                                     \n",
       "1970-01-01 00:00:00.000000032  2.706866e+01  62546300.0  \n",
       "1970-01-01 00:00:00.000000030  1.523410e+07  62546300.0  \n",
       "1970-01-01 00:00:00.000000029  6.577800e+06  62546300.0  \n",
       "1970-01-01 00:00:00.000000030  5.975600e+06  62546300.0  \n",
       "1970-01-01 00:00:00.000000028  4.843200e+06  62546300.0  \n",
       "...                                     ...         ...  \n",
       "1970-01-01 00:00:00.000000070  3.267500e+06  62546300.0  \n",
       "1970-01-01 00:00:00.000000071  1.829800e+06  62546300.0  \n",
       "1970-01-01 00:00:00.000000071  1.486200e+06  62546300.0  \n",
       "1970-01-01 00:00:00.000000072  1.822100e+06  62546300.0  \n",
       "1970-01-01 00:00:00.000000069  2.173600e+06  62546300.0  \n",
       "\n",
       "[5124 rows x 6 columns]"
      ]
     },
     "execution_count": 172,
     "metadata": {},
     "output_type": "execute_result"
    }
   ],
   "source": [
    "df.interpolate()"
   ]
  },
  {
   "cell_type": "code",
   "execution_count": null,
   "metadata": {},
   "outputs": [],
   "source": []
  }
 ],
 "metadata": {
  "kernelspec": {
   "display_name": "Python 3",
   "language": "python",
   "name": "python3"
  },
  "language_info": {
   "codemirror_mode": {
    "name": "ipython",
    "version": 3
   },
   "file_extension": ".py",
   "mimetype": "text/x-python",
   "name": "python",
   "nbconvert_exporter": "python",
   "pygments_lexer": "ipython3",
   "version": "3.8.5"
  }
 },
 "nbformat": 4,
 "nbformat_minor": 4
}
